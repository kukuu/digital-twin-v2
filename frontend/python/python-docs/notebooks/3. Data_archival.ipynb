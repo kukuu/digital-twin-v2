{
 "cells": [
  {
   "cell_type": "code",
   "execution_count": null,
   "metadata": {},
   "outputs": [],
   "source": [
    "import pandas as pd\n",
    "import os"
   ]
  },
  {
   "cell_type": "code",
   "execution_count": null,
   "metadata": {},
   "outputs": [],
   "source": [
    "cleaned_df = pd.read_csv(\"cleaned_df.csv\")"
   ]
  },
  {
   "cell_type": "code",
   "execution_count": 4,
   "metadata": {},
   "outputs": [
    {
     "data": {
      "text/plain": [
       "Datetime          0\n",
       "MeterA_ID         0\n",
       "MeterA_reading    0\n",
       "MeterB_ID         0\n",
       "MeterB_reading    0\n",
       "MeterC_ID         0\n",
       "MeterC_reading    0\n",
       "dtype: int64"
      ]
     },
     "execution_count": 4,
     "metadata": {},
     "output_type": "execute_result"
    }
   ],
   "source": [
    "cleaned_df.isna().sum()"
   ]
  },
  {
   "cell_type": "code",
   "execution_count": 7,
   "metadata": {},
   "outputs": [],
   "source": [
    "def create_dirs(path):\n",
    "    if not os.path.exists(path):\n",
    "        os.makedirs(path)\n",
    "\n",
    "def save_weekwise_data(df):\n",
    "    # Create the base Archive directory\n",
    "    base_dir = 'data/Archive'\n",
    "    create_dirs(base_dir)\n",
    "    if df['Datetime'].dtype == 'O':\n",
    "        df['Datetime'] = pd.to_datetime(df['Datetime'])\n",
    "\n",
    "    # Extract year and month from the 'Datetime' column for folder organization\n",
    "    for year in df['Datetime'].dt.year.unique():\n",
    "        year_dir = os.path.join(base_dir, str(year))\n",
    "        create_dirs(year_dir)\n",
    "        \n",
    "        for month in df[df['Datetime'].dt.year == year]['Datetime'].dt.month.unique():\n",
    "            month_dir = os.path.join(year_dir, f\"{month:02d}\")\n",
    "            create_dirs(month_dir)\n",
    "            \n",
    "            # Filter data for the specific year and month\n",
    "            month_data = df[(df['Datetime'].dt.year == year) & (df['Datetime'].dt.month == month)]\n",
    "            \n",
    "            # Iterate through each week in the month\n",
    "            for week_num, week_data in month_data.groupby(month_data['Datetime'].dt.isocalendar().week):\n",
    "                # week_dir = os.path.join(month_dir, f\"week_{week_num}\")\n",
    "                # create_dirs(week_dir)\n",
    "                \n",
    "                # Save the week data to a CSV file\n",
    "                week_csv_path = os.path.join(month_dir, f\"week_{week_num}.csv\")\n",
    "                week_data.to_csv(week_csv_path, index=False)\n",
    "                print(f\"Saved: {week_csv_path}\")\n"
   ]
  },
  {
   "cell_type": "code",
   "execution_count": 8,
   "metadata": {},
   "outputs": [
    {
     "name": "stdout",
     "output_type": "stream",
     "text": [
      "Saved: data/Archive\\2025\\01\\week_1.csv\n",
      "Saved: data/Archive\\2025\\01\\week_2.csv\n",
      "Saved: data/Archive\\2025\\01\\week_3.csv\n",
      "Saved: data/Archive\\2025\\01\\week_4.csv\n",
      "Saved: data/Archive\\2025\\01\\week_5.csv\n",
      "Saved: data/Archive\\2025\\02\\week_5.csv\n",
      "Saved: data/Archive\\2025\\02\\week_6.csv\n",
      "Saved: data/Archive\\2025\\02\\week_7.csv\n",
      "Saved: data/Archive\\2025\\02\\week_8.csv\n",
      "Saved: data/Archive\\2025\\02\\week_9.csv\n",
      "Saved: data/Archive\\2025\\03\\week_9.csv\n",
      "Saved: data/Archive\\2025\\03\\week_10.csv\n",
      "Saved: data/Archive\\2025\\03\\week_11.csv\n",
      "Saved: data/Archive\\2025\\03\\week_12.csv\n",
      "Saved: data/Archive\\2025\\03\\week_13.csv\n",
      "Saved: data/Archive\\2025\\03\\week_14.csv\n",
      "Saved: data/Archive\\2025\\04\\week_14.csv\n",
      "Saved: data/Archive\\2025\\04\\week_15.csv\n",
      "Saved: data/Archive\\2025\\04\\week_16.csv\n",
      "Saved: data/Archive\\2025\\04\\week_17.csv\n",
      "Saved: data/Archive\\2025\\04\\week_18.csv\n",
      "Saved: data/Archive\\2025\\05\\week_18.csv\n",
      "Saved: data/Archive\\2025\\05\\week_19.csv\n",
      "Saved: data/Archive\\2025\\05\\week_20.csv\n",
      "Saved: data/Archive\\2025\\05\\week_21.csv\n",
      "Saved: data/Archive\\2025\\05\\week_22.csv\n",
      "Saved: data/Archive\\2025\\06\\week_22.csv\n",
      "Saved: data/Archive\\2025\\06\\week_23.csv\n",
      "Saved: data/Archive\\2025\\06\\week_24.csv\n",
      "Saved: data/Archive\\2025\\06\\week_25.csv\n",
      "Saved: data/Archive\\2025\\06\\week_26.csv\n",
      "Saved: data/Archive\\2025\\06\\week_27.csv\n",
      "Saved: data/Archive\\2025\\07\\week_27.csv\n",
      "Saved: data/Archive\\2025\\07\\week_28.csv\n",
      "Saved: data/Archive\\2025\\07\\week_29.csv\n",
      "Saved: data/Archive\\2025\\07\\week_30.csv\n",
      "Saved: data/Archive\\2025\\07\\week_31.csv\n"
     ]
    }
   ],
   "source": [
    "save_weekwise_data(cleaned_df)"
   ]
  },
  {
   "cell_type": "code",
   "execution_count": null,
   "metadata": {},
   "outputs": [],
   "source": []
  },
  {
   "cell_type": "code",
   "execution_count": null,
   "metadata": {},
   "outputs": [],
   "source": []
  }
 ],
 "metadata": {
  "kernelspec": {
   "display_name": "venv",
   "language": "python",
   "name": "python3"
  },
  "language_info": {
   "codemirror_mode": {
    "name": "ipython",
    "version": 3
   },
   "file_extension": ".py",
   "mimetype": "text/x-python",
   "name": "python",
   "nbconvert_exporter": "python",
   "pygments_lexer": "ipython3",
   "version": "3.10.11"
  }
 },
 "nbformat": 4,
 "nbformat_minor": 2
}
